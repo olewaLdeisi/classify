{
 "cells": [
  {
   "cell_type": "code",
   "execution_count": 3,
   "metadata": {},
   "outputs": [],
   "source": [
    "import os,torch\n",
    "import torchvision.transforms as transforms\n",
    "from resnet import *\n",
    "from vggnet import *\n",
    "from utils import *\n",
    "from dataset import Dataset\n",
    "from torch.utils.data import DataLoader\n",
    "\n",
    "transform = transforms.Compose([transforms.Resize(256), transforms.ToTensor()])\n",
    "val_set = Dataset(class_num=2, data_path=os.path.join('./data', 't.txt'),\n",
    "                  file_path='./data', grayscale=False, transform=transform)\n",
    "val_loader = DataLoader(val_set, 1, shuffle=False, num_workers=4, drop_last=True)\n",
    "\n",
    "# in_channels = 3\n",
    "# model = vgg16_bn(0, 256, 2, in_channels)\n",
    "# model.load_state_dict(torch.load('./experiment/vgg16_bn_inchannel=3_class_weight_SGD/vgg16_bn_inchannel=3_bn_class=2_addclassweight.pth'))\n",
    "\n",
    "in_channels = 5\n",
    "model = resnet34(0, 256, 2, in_channels)\n",
    "model.load_state_dict(torch.load('./experiment/resnet34_inchannel=5_class_weight_SGD/resnet34_inchannel=5_bn_class=2_addclassweight.pth'))\n",
    "\n",
    "model.cuda()\n",
    "input_img = torch.Tensor(3, in_channels, 256, 256)\n",
    "input_label = torch.LongTensor(3)\n",
    "val_running_corrects = 0\n",
    "val_running_total = 0\n",
    "\n",
    "for i, (imgs, marks, labels) in enumerate(val_loader):\n",
    "    # 合并输入通道\n",
    "    if in_channels > 3:\n",
    "        inputs = input_img.copy_(torch.cat((imgs, *marks), 1))\n",
    "    else:\n",
    "        inputs = input_img.copy_(imgs)\n",
    "\n",
    "    inputs = inputs.cuda()\n",
    "    labels = labels.cuda()\n",
    "    outputs = model(inputs)\n",
    "    _, preds = torch.max(outputs, 1)\n",
    "    break"
   ]
  },
  {
   "cell_type": "code",
   "execution_count": 4,
   "metadata": {},
   "outputs": [
    {
     "data": {
      "text/plain": [
       "tensor([ 0,  0,  0], device='cuda:0')"
      ]
     },
     "execution_count": 4,
     "metadata": {},
     "output_type": "execute_result"
    }
   ],
   "source": [
    "preds"
   ]
  },
  {
   "cell_type": "code",
   "execution_count": 11,
   "metadata": {},
   "outputs": [
    {
     "data": {
      "text/plain": [
       "[0, 0, 0]"
      ]
     },
     "execution_count": 11,
     "metadata": {},
     "output_type": "execute_result"
    }
   ],
   "source": [
    "[int(i) for i in list(preds)]"
   ]
  },
  {
   "cell_type": "code",
   "execution_count": 12,
   "metadata": {},
   "outputs": [],
   "source": [
    "lis = [1 ,2,3]"
   ]
  },
  {
   "cell_type": "code",
   "execution_count": 13,
   "metadata": {},
   "outputs": [],
   "source": [
    "lis.extend([2,3,4,5])"
   ]
  },
  {
   "cell_type": "code",
   "execution_count": 15,
   "metadata": {},
   "outputs": [
    {
     "data": {
      "text/plain": [
       "[1, 2, 3, 4, 5]"
      ]
     },
     "execution_count": 15,
     "metadata": {},
     "output_type": "execute_result"
    }
   ],
   "source": [
    "list(set(lis))"
   ]
  },
  {
   "cell_type": "code",
   "execution_count": null,
   "metadata": {},
   "outputs": [],
   "source": []
  }
 ],
 "metadata": {
  "kernelspec": {
   "display_name": "LinEnv",
   "language": "python",
   "name": "linenv"
  },
  "language_info": {
   "codemirror_mode": {
    "name": "ipython",
    "version": 3
   },
   "file_extension": ".py",
   "mimetype": "text/x-python",
   "name": "python",
   "nbconvert_exporter": "python",
   "pygments_lexer": "ipython3",
   "version": "3.6.5"
  }
 },
 "nbformat": 4,
 "nbformat_minor": 2
}
